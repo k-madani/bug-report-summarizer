{
  "nbformat": 4,
  "nbformat_minor": 0,
  "metadata": {
    "colab": {
      "provenance": [],
      "gpuType": "T4",
      "authorship_tag": "ABX9TyMu97rlVaCRhvGzhX/CQCSu"
    },
    "kernelspec": {
      "name": "python3",
      "display_name": "Python 3"
    },
    "language_info": {
      "name": "python"
    },
    "accelerator": "GPU"
  },
  "cells": [
    {
      "cell_type": "code",
      "execution_count": 1,
      "metadata": {
        "colab": {
          "base_uri": "https://localhost:8080/"
        },
        "id": "_2gmptu0s6s1",
        "outputId": "91cc9a1d-2d30-4194-e39e-e5bce1956a35"
      },
      "outputs": [
        {
          "output_type": "stream",
          "name": "stdout",
          "text": [
            "True\n"
          ]
        }
      ],
      "source": [
        "import torch; print(torch.cuda.is_available())"
      ]
    },
    {
      "cell_type": "code",
      "source": [
        "!pip install -q transformers datasets peft accelerate evaluate rouge-score gradio sentencepiece torch\n"
      ],
      "metadata": {
        "colab": {
          "base_uri": "https://localhost:8080/"
        },
        "id": "BdajsqdWt3AF",
        "outputId": "7deaea2f-a14f-4383-9f51-5bed11737b5c"
      },
      "execution_count": 2,
      "outputs": [
        {
          "output_type": "stream",
          "name": "stdout",
          "text": [
            "  Preparing metadata (setup.py) ... \u001b[?25l\u001b[?25hdone\n",
            "\u001b[2K   \u001b[90m━━━━━━━━━━━━━━━━━━━━━━━━━━━━━━━━━━━━━━━━\u001b[0m \u001b[32m84.1/84.1 kB\u001b[0m \u001b[31m7.1 MB/s\u001b[0m eta \u001b[36m0:00:00\u001b[0m\n",
            "\u001b[?25h  Building wheel for rouge-score (setup.py) ... \u001b[?25l\u001b[?25hdone\n"
          ]
        }
      ]
    },
    {
      "cell_type": "markdown",
      "source": [
        "Python: 3.10+\n",
        "GPU: (e.g., Tesla T4 on Colab)\n",
        "transformers: 4.x\n",
        "datasets: 2.x\n",
        "peft: 0.x"
      ],
      "metadata": {
        "id": "WeEYc8onwS8k"
      }
    }
  ]
}