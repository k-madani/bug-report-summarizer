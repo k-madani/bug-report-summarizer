{
  "nbformat": 4,
  "nbformat_minor": 0,
  "metadata": {
    "colab": {
      "provenance": [],
      "gpuType": "T4",
      "authorship_tag": "ABX9TyPV0w+7KO2n70MBnrUvZK1c"
    },
    "kernelspec": {
      "name": "python3",
      "display_name": "Python 3"
    },
    "language_info": {
      "name": "python"
    },
    "accelerator": "GPU"
  },
  "cells": [
    {
      "cell_type": "code",
      "execution_count": 1,
      "metadata": {
        "id": "YKqZo9IhzlpH",
        "colab": {
          "base_uri": "https://localhost:8080/"
        },
        "outputId": "777259c6-9583-4b9c-88ad-b9cd367c3f86"
      },
      "outputs": [
        {
          "output_type": "stream",
          "name": "stdout",
          "text": [
            "GPU available? True\n",
            "GPU name: Tesla T4\n"
          ]
        }
      ],
      "source": [
        "import torch\n",
        "print(\"GPU available?\", torch.cuda.is_available())\n",
        "print(\"GPU name:\", torch.cuda.get_device_name(0) if torch.cuda.is_available() else \"CPU-only\")"
      ]
    },
    {
      "cell_type": "code",
      "source": [
        "!pip install -q transformers datasets peft accelerate evaluate rouge-score sacrebleu sentencepiece gradio scikit-learn pandas\n",
        "# This installs the Hugging Face stack (models, datasets), PEFT (LoRA), evaluation metrics, Gradio (demo UI), and general tools."
      ],
      "metadata": {
        "id": "ochfi2NNQnbd"
      },
      "execution_count": 4,
      "outputs": []
    },
    {
      "cell_type": "code",
      "source": [
        "# verifying versions\n",
        "import transformers, datasets, peft, evaluate, gradio, pandas as pd\n",
        "print(\"transformers:\", transformers.__version__)\n",
        "print(\"datasets:\", datasets.__version__)\n",
        "print(\"peft:\", peft.__version__)"
      ],
      "metadata": {
        "colab": {
          "base_uri": "https://localhost:8080/"
        },
        "id": "VfFjFcc6QpsC",
        "outputId": "483d7c02-63c0-4bb2-b686-12b88d819e7e"
      },
      "execution_count": 5,
      "outputs": [
        {
          "output_type": "stream",
          "name": "stdout",
          "text": [
            "transformers: 4.57.0\n",
            "datasets: 4.0.0\n",
            "peft: 0.17.1\n"
          ]
        }
      ]
    },
    {
      "cell_type": "code",
      "source": [
        "!mkdir -p bugreport-summarizer/{src,results,experiments,notebooks,report}"
      ],
      "metadata": {
        "id": "9A9N8hByRD9m"
      },
      "execution_count": 6,
      "outputs": []
    }
  ]
}